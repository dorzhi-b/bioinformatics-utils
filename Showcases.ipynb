{
 "cells": [
  {
   "cell_type": "markdown",
   "metadata": {},
   "source": [
    "### Showcases notebook\n",
    "\n",
    "Here you can see examples of modules execution."
   ]
  },
  {
   "cell_type": "code",
   "execution_count": 1,
   "metadata": {},
   "outputs": [],
   "source": [
    "import os\n",
    "import sys\n",
    "import time\n",
    "import datetime\n",
    "import requests\n",
    "import numpy as np\n",
    "import time\n",
    "from sklearn.datasets import make_classification\n",
    "from concurrent.futures import ThreadPoolExecutor\n",
    "from sklearn.tree import (DecisionTreeClassifier)\n",
    "from Bio import SeqIO\n",
    "from Bio.SeqUtils import GC\n",
    "from functools import wraps\n",
    "from io import StringIO\n",
    "from dotenv import load_dotenv\n",
    "\n",
    "\n",
    "from custom_random_forest import RandomForestClassifierCustom\n",
    "from bio_files_processor import OpenFasta, FastaRecord, convert_multiline_fasta_to_oneline, change_fasta_start_pos\n",
    "from bioinformatics_utils import (DNASequence, RNASequence, AminoAcidSequence, filter_fastq, \n",
    "                                  telegram_logger, send_telegram_message)"
   ]
  },
  {
   "cell_type": "markdown",
   "metadata": {},
   "source": [
    "### Test 1. custom_random_forest.py"
   ]
  },
  {
   "cell_type": "code",
   "execution_count": 2,
   "metadata": {},
   "outputs": [
    {
     "name": "stdout",
     "output_type": "stream",
     "text": [
      "Execution time for 1 thread fit function: 4.931288957595825\n",
      "Execution time for 2 threads fit function: 2.7084004878997803\n",
      "Execution time for 1 thread predict function: 0.10542893409729004\n",
      "Execution time for 2 threads predict function: 0.12195634841918945\n",
      "Predictions are equal: True\n"
     ]
    }
   ],
   "source": [
    "X, y = make_classification(n_samples=100000)\n",
    "random_forest = RandomForestClassifierCustom(max_depth=30, n_estimators=10, max_features=2, random_state=42)\n",
    "\n",
    "start_time_single_thread_fit = time.time()\n",
    "random_forest.fit(X, y, n_jobs=1)\n",
    "end_time_single_thread_fit = time.time()\n",
    "\n",
    "start_time_single_thread_predict = time.time()\n",
    "predictions_single_thread = random_forest.predict_proba(X, n_jobs=1)\n",
    "end_time_single_thread_predict = time.time()\n",
    "\n",
    "start_time_multi_thread_fit = time.time()\n",
    "random_forest.fit(X, y, n_jobs=2)\n",
    "end_time_multi_thread_fit = time.time()\n",
    "\n",
    "start_time_multi_thread_predict = time.time()\n",
    "predictions_multi_thread = random_forest.predict_proba(X, n_jobs=2)\n",
    "end_time_multi_thread_predict = time.time()\n",
    "\n",
    "predictions_single_thread_rounded = np.round(predictions_single_thread, 5)\n",
    "predictions_multi_thread_rounded = np.round(predictions_multi_thread, 5)\n",
    "\n",
    "print('Execution time for 1 thread fit function:', end_time_single_thread_fit - start_time_single_thread_fit)\n",
    "print('Execution time for 2 threads fit function:', end_time_multi_thread_fit - start_time_multi_thread_fit)\n",
    "\n",
    "print('Execution time for 1 thread predict function:', end_time_single_thread_predict - start_time_single_thread_predict)\n",
    "print('Execution time for 2 threads predict function:', end_time_multi_thread_predict - start_time_multi_thread_predict)\n",
    "\n",
    "match_predictions = np.array_equal(predictions_single_thread_rounded, predictions_multi_thread_rounded)\n",
    "print('Predictions are equal:', match_predictions)"
   ]
  },
  {
   "cell_type": "markdown",
   "metadata": {},
   "source": [
    "### Test 2. OpenFasta "
   ]
  },
  {
   "cell_type": "code",
   "execution_count": 3,
   "metadata": {},
   "outputs": [
    {
     "name": "stdout",
     "output_type": "stream",
     "text": [
      "id = GTD323452, description = 5S_rRNA NODE_272_length_223_cov_0.720238:18-129(+), seq = ACGGCCATAGGACTTTGAAAGCACCGCATCCCGTCCGATCTGCGAAGTTAACCAAGATGCCGCCTGGTTAGTACCATGGTGGGGGACCACATGGGAATCCCTGGTGCTGTG\n",
      "id = GTD678345, description = 16S_rRNA NODE_80_length_720_cov_1.094737:313-719(+), seq = TTGGCTTCTTAGAGGGACTTTTGATGTTTAATCAAAGGAAGTTTGAGGCAATAACAGGTCTGTGATGCCCTTAGATGTTCTGGGCCGCACGCGCGCTACACTGAGCCCTTGGGAGTGGTCCATTTGAGCCGGCAACGGCACGTTTGGACTGCAAACTTGGGCAAACTTGGTCATTTAGAGGAAGTAAAAGTCGTAACAAGGT\n",
      "id = GTD174893, description = 16S_rRNA NODE_1_length_2558431_cov_75.185164:2153860-2155398(+), seq = TTGAAGAGTTTGATCATGGCTCAGATTGAACGCTGGCGGCAGGCCTAACACATGCAAGTCGAACGGTAACAGGAAACAGCTTGCTGTTTCGCTGACGAGTGGGAAGTAGGTAGCTTAACCTTCGGGAGGGCGCTTACCACTTTGTGATTCATGACTGGGGTGAAGTCGTAACAAGGTAACCGTAGGGGAACCTGCGGTTGGATCACCTCCTT\n",
      "id = GTD906783, description = 16S_rRNA NODE_1_length_2558431_cov_75.185164:793941-795479(-), seq = TTGAAGAGTTTGATCATGGCTCAGATTGAACGCTGGCGGCAGGCCTAACACATGCAAGTCGAACGGTAACAGGAAACAGCTTGCTGTTTCGCTGACGAGTGGGAAGTAGGTAGCTTAACCTTCGGGAGGGCGCTTACCACTTTGTGATTCATGACTGGGGTGAAGTCGTAACAAGGTAACCGTAGGGGAACCTGCGGTTGGATCACCTCCTT\n",
      "id = GTD129563, description = 16S_rRNA NODE_4_length_428221_cov_75.638017:281055-282593(-), seq = CGGACGGGTGAGTAATGTCTGGGAAACTGCCTGATGGAGGGGGATAACTACTGGAAACGGTAGCTAATACCGCATAACGTCGCAAGACCAAAGAGGGGGACCGAAGTAGGTAGCTTAACCTTCGGGAGGGCGCTTACCACTTTGTGATTCATGACTGGGGTGAAGTCGTAACAAGGTAACCGTAGGGGAACCTGCGGTTGGATCACCTCCTT\n"
     ]
    }
   ],
   "source": [
    "with OpenFasta('data/example_fasta.fasta') as fasta_file:\n",
    "    records_generator = fasta_file.read_records()\n",
    "\n",
    "    for record in records_generator:\n",
    "        print(record)"
   ]
  },
  {
   "cell_type": "code",
   "execution_count": 4,
   "metadata": {},
   "outputs": [
    {
     "name": "stdout",
     "output_type": "stream",
     "text": [
      "id = GTD323452, description = 5S_rRNA NODE_272_length_223_cov_0.720238:18-129(+), seq = ACGGCCATAGGACTTTGAAAGCACCGCATCCCGTCCGATCTGCGAAGTTAACCAAGATGCCGCCTGGTTAGTACCATGGTGGGGGACCACATGGGAATCCCTGGTGCTGTG\n"
     ]
    }
   ],
   "source": [
    "with OpenFasta('data/example_fasta.fasta') as fasta_file:\n",
    "    single_record = fasta_file.read_record()\n",
    "    print(single_record)"
   ]
  },
  {
   "cell_type": "markdown",
   "metadata": {},
   "source": [
    "### Test 3. convert_multiline_fasta_to_oneline and change_fasta_start_pos"
   ]
  },
  {
   "cell_type": "code",
   "execution_count": 5,
   "metadata": {},
   "outputs": [],
   "source": [
    "input_fasta = 'data/example_fasta.fasta'  \n",
    "output_fasta = 'data/output_oneline.fasta'  \n",
    "\n",
    "convert_multiline_fasta_to_oneline(input_fasta, output_fasta) #Output example stored in data directory"
   ]
  },
  {
   "cell_type": "code",
   "execution_count": 6,
   "metadata": {},
   "outputs": [],
   "source": [
    "input_fasta = 'data/example_fasta.fasta'\n",
    "output_fasta = 'data/output_changed_start_pos.fasta'\n",
    "\n",
    "change_fasta_start_pos(input_fasta, 2, output_fasta) #Output example stored in data directory"
   ]
  },
  {
   "cell_type": "markdown",
   "metadata": {},
   "source": [
    "### Test 4. BiologicalSequence"
   ]
  },
  {
   "cell_type": "code",
   "execution_count": 7,
   "metadata": {},
   "outputs": [
    {
     "name": "stdout",
     "output_type": "stream",
     "text": [
      "AUGCAUGC\n",
      "8\n"
     ]
    },
    {
     "ename": "NotImplementedError",
     "evalue": "RNA complement is not defined.",
     "output_type": "error",
     "traceback": [
      "\u001b[0;31m---------------------------------------------------------------------------\u001b[0m",
      "\u001b[0;31mNotImplementedError\u001b[0m                       Traceback (most recent call last)",
      "Cell \u001b[0;32mIn[7], line 7\u001b[0m\n\u001b[1;32m      4\u001b[0m amino_seq \u001b[38;5;241m=\u001b[39m AminoAcidSequence(\u001b[38;5;124m'\u001b[39m\u001b[38;5;124mACDEFGHIKLMNPQRSTVWY\u001b[39m\u001b[38;5;124m'\u001b[39m)\n\u001b[1;32m      5\u001b[0m \u001b[38;5;28mprint\u001b[39m(amino_seq\u001b[38;5;241m.\u001b[39mcount_hydrophobic_residues())\n\u001b[0;32m----> 7\u001b[0m dna_seq \u001b[38;5;241m=\u001b[39m \u001b[43mRNASequence\u001b[49m\u001b[43m(\u001b[49m\u001b[38;5;124;43m'\u001b[39;49m\u001b[38;5;124;43mATGCATGC\u001b[39;49m\u001b[38;5;124;43m'\u001b[39;49m\u001b[43m)\u001b[49m\u001b[38;5;241;43m.\u001b[39;49m\u001b[43mcomplement\u001b[49m\u001b[43m(\u001b[49m\u001b[43m)\u001b[49m\n\u001b[1;32m      8\u001b[0m \u001b[38;5;28mprint\u001b[39m(dna_seq)\n",
      "File \u001b[0;32m~/BI/python/my_tool/bioinformatics-utils/bioinformatics_utils.py:80\u001b[0m, in \u001b[0;36mNucleicAcidSequence.complement\u001b[0;34m(self)\u001b[0m\n\u001b[1;32m     78\u001b[0m \u001b[38;5;28;01mdef\u001b[39;00m \u001b[38;5;21mcomplement\u001b[39m(\u001b[38;5;28mself\u001b[39m):\n\u001b[1;32m     79\u001b[0m \u001b[38;5;250m    \u001b[39m\u001b[38;5;124;03m\"\"\"Return the complement of the sequence.\"\"\"\u001b[39;00m\n\u001b[0;32m---> 80\u001b[0m     \u001b[38;5;28;01mreturn\u001b[39;00m \u001b[38;5;124;43m'\u001b[39;49m\u001b[38;5;124;43m'\u001b[39;49m\u001b[38;5;241;43m.\u001b[39;49m\u001b[43mjoin\u001b[49m\u001b[43m(\u001b[49m\u001b[38;5;28;43mself\u001b[39;49m\u001b[38;5;241;43m.\u001b[39;49m\u001b[43mcomplement_dict\u001b[49m\u001b[43m(\u001b[49m\u001b[43m)\u001b[49m\u001b[43m[\u001b[49m\u001b[43mbase\u001b[49m\u001b[43m]\u001b[49m\u001b[43m \u001b[49m\u001b[38;5;28;43;01mfor\u001b[39;49;00m\u001b[43m \u001b[49m\u001b[43mbase\u001b[49m\u001b[43m \u001b[49m\u001b[38;5;129;43;01min\u001b[39;49;00m\u001b[43m \u001b[49m\u001b[38;5;28;43mself\u001b[39;49m\u001b[38;5;241;43m.\u001b[39;49m\u001b[43msequence\u001b[49m\u001b[43m)\u001b[49m\n",
      "File \u001b[0;32m~/BI/python/my_tool/bioinformatics-utils/bioinformatics_utils.py:80\u001b[0m, in \u001b[0;36m<genexpr>\u001b[0;34m(.0)\u001b[0m\n\u001b[1;32m     78\u001b[0m \u001b[38;5;28;01mdef\u001b[39;00m \u001b[38;5;21mcomplement\u001b[39m(\u001b[38;5;28mself\u001b[39m):\n\u001b[1;32m     79\u001b[0m \u001b[38;5;250m    \u001b[39m\u001b[38;5;124;03m\"\"\"Return the complement of the sequence.\"\"\"\u001b[39;00m\n\u001b[0;32m---> 80\u001b[0m     \u001b[38;5;28;01mreturn\u001b[39;00m \u001b[38;5;124m'\u001b[39m\u001b[38;5;124m'\u001b[39m\u001b[38;5;241m.\u001b[39mjoin(\u001b[38;5;28;43mself\u001b[39;49m\u001b[38;5;241;43m.\u001b[39;49m\u001b[43mcomplement_dict\u001b[49m\u001b[43m(\u001b[49m\u001b[43m)\u001b[49m[base] \u001b[38;5;28;01mfor\u001b[39;00m base \u001b[38;5;129;01min\u001b[39;00m \u001b[38;5;28mself\u001b[39m\u001b[38;5;241m.\u001b[39msequence)\n",
      "File \u001b[0;32m~/BI/python/my_tool/bioinformatics-utils/bioinformatics_utils.py:120\u001b[0m, in \u001b[0;36mRNASequence.complement_dict\u001b[0;34m(self)\u001b[0m\n\u001b[1;32m    118\u001b[0m \u001b[38;5;28;01mdef\u001b[39;00m \u001b[38;5;21mcomplement_dict\u001b[39m(\u001b[38;5;28mself\u001b[39m):\n\u001b[1;32m    119\u001b[0m \u001b[38;5;250m    \u001b[39m\u001b[38;5;124;03m\"\"\"Raise an error as RNA complement is not defined.\"\"\"\u001b[39;00m\n\u001b[0;32m--> 120\u001b[0m     \u001b[38;5;28;01mraise\u001b[39;00m \u001b[38;5;167;01mNotImplementedError\u001b[39;00m(\u001b[38;5;124m\"\u001b[39m\u001b[38;5;124mRNA complement is not defined.\u001b[39m\u001b[38;5;124m\"\u001b[39m)\n",
      "\u001b[0;31mNotImplementedError\u001b[0m: RNA complement is not defined."
     ]
    }
   ],
   "source": [
    "rna_seq = DNASequence('ATGCATGC').transcribe()\n",
    "print(rna_seq)\n",
    "\n",
    "amino_seq = AminoAcidSequence('ACDEFGHIKLMNPQRSTVWY')\n",
    "print(amino_seq.count_hydrophobic_residues())\n",
    "\n",
    "dna_seq = RNASequence('ATGCATGC').complement()\n",
    "print(dna_seq)"
   ]
  },
  {
   "cell_type": "markdown",
   "metadata": {},
   "source": [
    "### Test 5. filter_fastq"
   ]
  },
  {
   "cell_type": "code",
   "execution_count": null,
   "metadata": {},
   "outputs": [
    {
     "data": {
      "text/plain": [
       "{'M71059:67:000000000-L7CLC:1:1104:21412:16850': ('TACGTAGGGGGCGAACATTGCTCGGAATTACTGGGCGTAAAGGGCGCGTAGGCGGCCTGCCAAGTCAGATGTGAAAGCCCACGGCTCAACCGTGGAAGTG',\n",
       "  '\\'\\'%&!%&\\x0e $\\x0e\\x0e$$$$\\x1d&$\\x10%\\x1f!$$%$\"!%\\x1d&\\'\\'$$$$$&&%\\'\"%\\x1f\\x1f\\x1f\\x1b!\"\\x1e#\"\\x1e\\x1e\\x1f \\r\\x0f\"&\\'$%\\x1b\\x0f\\x1c\\x0f\\x1c#\\x1c#&\\'%\\x0f!&\\x1b\\x1b\"\"\"\\x0c \\r&\\x19&\\'\\x1f\"$& \\x0f\"\\x18\\x18'),\n",
       " 'M71059:67:000000000-L7CLC:1:1106:8948:6488': ('TACGTAGGGGGCGAGCGTTGTCCGGAATCATTGGGCGTAAAGGGCGCGTAGGCGGCCTATTAAGTCAGATGTGAAAGCCCACGGCTTAACCGTGGAAGTG',\n",
       "  '!&&$%$&$&&&\"$\\x0f$$&$$\\x0e%\\x12\\x12\\x1d\\x0e\\x10\\x1d\\x0e!\\x1e&!\\x1e\\x12%\\x0f$\\x1b\\x0e\\x0e&$!%&&&\"\\x1f\\x0e\\x1f\\x0e\\x1b\"\\x0e\\x0c\\x1b\"\"%%\\'\\x10%%%!&%%%\\'\\'\\'\\x0f&&%%\\'\"$\"&&&\"\\'\"\"\\x0f %&&#!!\\x0f\\x1a'),\n",
       " 'M71059:67:000000000-L7CLC:1:1108:14502:21447': ('TACGGAGGGTGCAAGCGTTATTCGGAATTATTGGGCGTAAAGGGCGCGTAGGCGGTCTTTTAAGTCAGATGTGAAAGCCCGGGGCTCAACCCCGGAAGTG',\n",
       "  '%\\x11\\x10%$\\x0e$&$\\x0e \\x0e% %$$\\x0e$$%%!&%$&$\\'&\\'\\'%\\'$%\"$$& #&\\x0e\\x1e\\x1d$$&\\x1e$&!$&&\\x1e\"%%\\'\\'\\'\\'\\'%%&\\x10%&\\x1e#%\\'%\\x10%&&&&&\"\"\"\\'\\'%\\'%\"\\x1e \\x1f \"%\\x0f\\x19'),\n",
       " 'M71059:67:000000000-L7CLC:1:1111:8988:26941': ('TACGGAGGGTGCAAGCGTTGTTCGGAATTACTGGGCGTAAAGGGCGTGCAGGCGGGTTGGTAAGTCAGATGTGAAAGCCCTGGGCTTAACCCAGGAAGT',\n",
       "  '\\'\\'\\'\\'&&&%&&&&&\\'\\'\\'&&&&&\\'\\'&&&&&\\'\\'%&\\'\\'\\'\\'&&$%\\'\\'%&&&&&&\\'\\'&&&&\"\"%%%\\x0e#\\'#%%#\\x11&%#&\\'!%\\'\\x10\\x0f\\x0f%\\x0f\\x0f%&\\x0e%&\"#\\x10%&\"%$\\r%\\r\\x1b'),\n",
       " 'M71059:67:000000000-L7CLC:1:1113:8966:14152': ('TACGTAGGGTGCGAGCGTTAATCGGAATTACTGGGCGTAAAGCGTGCGCAGGCGGTTTTGTAAGTCAGATGTGAAATCCCCGGGCTCAACCTGGGAACT',\n",
       "  '&\\'\\'$&\\'\\'&&\\'&&&&&&&&&&#\\'\\'&&&&&\\'\\'\\'\\'\\'\\'%$%$%&%\\'%%&&%&&&&&&&&!#%&\\x0f!\\x11\\x1e\\x11!&\\'%\\x11\\x1e%\\x11\\x11\\x11%&&\\x11\\x1e%$\\x0e\\x1b \\x1f\\x0c\\x1b\\x10\\x1d\\x0f%\\x0f\"%&&\\'\\r\\x1b'),\n",
       " 'M71059:67:000000000-L7CLC:1:1114:23040:9265': ('TACGGAGGGTGCAAGCGTTACTCGGAATTACTGGGCGTAAAGGGCGCGTAGGCGGTTTGGTAAGTCAGATGTGAAAGCCCGGGGCTCAACCCCGGAAGTG',\n",
       "  '#\\'!$\\x0e\\x0e %$\\x0e  \\x10  \\x0e$$$\\x0e\\x0e&\\'%&&&&\\'&\\x10#$\\'% $$&&\\'%\\'$\\x0e\\x1d\\x0e$$&&&&$&\\x0e\\x1b\"%&\\'&\\'\\x10%&%%%&&%&%\\'&\\x1b%\\'$\\x0e\\x1b\\x1f\\x1f\\x1f\\x1f\\'\\'\\'\\x0e\"\\x1b$&&\\x1f\\x1e \\x0f\\x19'),\n",
       " 'M71059:67:000000000-L7CLC:1:2101:6192:11785': ('CACCGGCAGCTCAAGTGGTAGCCGCTTTTATTGGGCCTAAAGCGTCCGTAGCCGGTCTGATAAGTCTCTGGTGAAATCCCACAGCTTAACTGTGGGAATT',\n",
       "  '%%%%%%%%%%%%%%%%%%%%%%$%%%%%%%%%%%%%%%%%%%%%%%%%%%%%%%%%%%%%%%%%%%%%%%%%%%%%%%%%%%#%%%%%%%%%%%%%%%%%'),\n",
       " 'M71059:67:000000000-L7CLC:1:2108:12415:26827': ('TACGGAGGGTGCAAGCGTTAATCGGAATTACTGGGCGTAAAGCGCGCGTAGGCGGTTAGATAAGTCGGATGTGAAATCCCTGGGCTCAACCTGGGAACTG',\n",
       "  '&&\\'$&&&&&$&&\\'\\'&\\'&&&$%\\x14&%&&&%\\'%%&\\'\\'\\'\\'&$$&&\\'#$\\x0e$$$$\\x1f\"%%\\x1f\"\\x1b! \\x0f\\x11\\x11\\x1e%%%! \"\\x1e\"\\x1f\\x10\\x10\\x1e#!#\\x1e%\\x1e\\x10\\x1e&%\"\\x0f\\x1b%&%&!%%&\"&\\r\\x0f\\x1b'),\n",
       " 'M71059:67:000000000-L7CLC:1:2109:18089:26866': ('TACGGAGGGTGCAAGCGTTATCCGGATTTATTGGGTTTAAAGGGTGCGCAGGCGGAATGATTAGTCAGTGGTGAAATCCTACAGCTCAACTGTAGAATT',\n",
       "  '\\'\\'\\'&& &&$$%$&&\\'\\x0e%\\x0e$ &\\x11\\x1f\\x0e\\x1d\\x0e$$\\'%%&&&\\'%\\x0e$\"#&\\'%\\x1e!%\\x0e$\\x1d$\\x1e$%&$\"\"&\\'&\\x11%##\\x11\\x11!%%&%\\x1e\\x1b&!&\\'&&\\x10\\x11\\x1e&%\\'%\\x10&\\'&\\'\\'\\'&!%\\x10%#'),\n",
       " 'M71059:67:000000000-L7CLC:1:2113:26626:12876': ('CACGGAGGGTGCAAGCGTTGTTCGGAATCACTGGGCGTAAAGGACGCGCAGGCGGTTTGGTAAGTCAGAAGTGAAATCCGTCGGCTCAACCGACGAACGG',\n",
       "  '&%%#&\"%&&&%&%\\'\\'#$\\x10$%%&\\'&&#%&&&%\\'&&$\\'&&&&\\'\\'&&\\'&&&&&&&&&&&&&#&\\x1e##\\x1b&#%&\\x11\\x1e&&\\'!%&#\\x10\\x1e$\"\\x0f\\x1b\"\\x1d\\r\"&%\\x0f%\"\\x0c\\x1b\\x1b\\x1f \\x0c\\x0c\"')}"
      ]
     },
     "execution_count": 11,
     "metadata": {},
     "output_type": "execute_result"
    }
   ],
   "source": [
    "filter_fastq('data/example.fastq', (30, 60), 100, 30) #Correct input format"
   ]
  },
  {
   "cell_type": "code",
   "execution_count": null,
   "metadata": {},
   "outputs": [
    {
     "ename": "ValueError",
     "evalue": "Records in Fastq files should start with '@' character",
     "output_type": "error",
     "traceback": [
      "\u001b[0;31m---------------------------------------------------------------------------\u001b[0m",
      "\u001b[0;31mValueError\u001b[0m                                Traceback (most recent call last)",
      "Cell \u001b[0;32mIn[12], line 1\u001b[0m\n\u001b[0;32m----> 1\u001b[0m \u001b[43mfilter_fastq\u001b[49m\u001b[43m(\u001b[49m\u001b[38;5;124;43m'\u001b[39;49m\u001b[38;5;124;43mdata/output_oneline.fasta\u001b[39;49m\u001b[38;5;124;43m'\u001b[39;49m\u001b[43m,\u001b[49m\u001b[43m \u001b[49m\u001b[43m(\u001b[49m\u001b[38;5;241;43m30\u001b[39;49m\u001b[43m,\u001b[49m\u001b[43m \u001b[49m\u001b[38;5;241;43m60\u001b[39;49m\u001b[43m)\u001b[49m\u001b[43m,\u001b[49m\u001b[43m \u001b[49m\u001b[38;5;241;43m100\u001b[39;49m\u001b[43m,\u001b[49m\u001b[43m \u001b[49m\u001b[38;5;241;43m30\u001b[39;49m\u001b[43m)\u001b[49m \u001b[38;5;66;03m#Incorrect input format\u001b[39;00m\n",
      "File \u001b[0;32m~/BI/python/my_tool/bioinformatics-utils/bioinformatics_utils.py:197\u001b[0m, in \u001b[0;36mfilter_fastq\u001b[0;34m(file_path, gc_bounds, length_bounds, quality_threshold)\u001b[0m\n\u001b[1;32m    194\u001b[0m filtered_seqs \u001b[38;5;241m=\u001b[39m {}\n\u001b[1;32m    196\u001b[0m \u001b[38;5;28;01mwith\u001b[39;00m \u001b[38;5;28mopen\u001b[39m(file_path, \u001b[38;5;124m\"\u001b[39m\u001b[38;5;124mr\u001b[39m\u001b[38;5;124m\"\u001b[39m) \u001b[38;5;28;01mas\u001b[39;00m handle:\n\u001b[0;32m--> 197\u001b[0m \u001b[43m    \u001b[49m\u001b[38;5;28;43;01mfor\u001b[39;49;00m\u001b[43m \u001b[49m\u001b[43mrecord\u001b[49m\u001b[43m \u001b[49m\u001b[38;5;129;43;01min\u001b[39;49;00m\u001b[43m \u001b[49m\u001b[43mSeqIO\u001b[49m\u001b[38;5;241;43m.\u001b[39;49m\u001b[43mparse\u001b[49m\u001b[43m(\u001b[49m\u001b[43mhandle\u001b[49m\u001b[43m,\u001b[49m\u001b[43m \u001b[49m\u001b[38;5;124;43m\"\u001b[39;49m\u001b[38;5;124;43mfastq\u001b[39;49m\u001b[38;5;124;43m\"\u001b[39;49m\u001b[43m)\u001b[49m\u001b[43m:\u001b[49m\n\u001b[1;32m    198\u001b[0m \u001b[43m        \u001b[49m\u001b[43mgc_content\u001b[49m\u001b[43m \u001b[49m\u001b[38;5;241;43m=\u001b[39;49m\u001b[43m \u001b[49m\u001b[43mGC\u001b[49m\u001b[43m(\u001b[49m\u001b[43mrecord\u001b[49m\u001b[38;5;241;43m.\u001b[39;49m\u001b[43mseq\u001b[49m\u001b[43m)\u001b[49m\n\u001b[1;32m    200\u001b[0m \u001b[43m        \u001b[49m\u001b[38;5;28;43;01mif\u001b[39;49;00m\u001b[43m \u001b[49m\u001b[38;5;28;43misinstance\u001b[39;49m\u001b[43m(\u001b[49m\u001b[43mgc_bounds\u001b[49m\u001b[43m,\u001b[49m\u001b[43m \u001b[49m\u001b[43m(\u001b[49m\u001b[38;5;28;43mfloat\u001b[39;49m\u001b[43m,\u001b[49m\u001b[43m \u001b[49m\u001b[38;5;28;43mint\u001b[39;49m\u001b[43m)\u001b[49m\u001b[43m)\u001b[49m\u001b[43m:\u001b[49m\n",
      "File \u001b[0;32m~/BI/ML/BI-ml-2024/.conda/lib/python3.11/site-packages/Bio/SeqIO/Interfaces.py:74\u001b[0m, in \u001b[0;36mSequenceIterator.__next__\u001b[0;34m(self)\u001b[0m\n\u001b[1;32m     72\u001b[0m \u001b[38;5;28;01mdef\u001b[39;00m \u001b[38;5;21m__next__\u001b[39m(\u001b[38;5;28mself\u001b[39m):\n\u001b[1;32m     73\u001b[0m     \u001b[38;5;28;01mtry\u001b[39;00m:\n\u001b[0;32m---> 74\u001b[0m         \u001b[38;5;28;01mreturn\u001b[39;00m \u001b[38;5;28mnext\u001b[39m(\u001b[38;5;28mself\u001b[39m\u001b[38;5;241m.\u001b[39mrecords)\n\u001b[1;32m     75\u001b[0m     \u001b[38;5;28;01mexcept\u001b[39;00m \u001b[38;5;167;01mException\u001b[39;00m:\n\u001b[1;32m     76\u001b[0m         \u001b[38;5;28;01mif\u001b[39;00m \u001b[38;5;28mself\u001b[39m\u001b[38;5;241m.\u001b[39mshould_close_stream:\n",
      "File \u001b[0;32m~/BI/ML/BI-ml-2024/.conda/lib/python3.11/site-packages/Bio/SeqIO/QualityIO.py:1085\u001b[0m, in \u001b[0;36mFastqPhredIterator.iterate\u001b[0;34m(self, handle)\u001b[0m\n\u001b[1;32m   1075\u001b[0m \u001b[38;5;66;03m# Originally, I used a list expression for each record:\u001b[39;00m\n\u001b[1;32m   1076\u001b[0m \u001b[38;5;66;03m#\u001b[39;00m\n\u001b[1;32m   1077\u001b[0m \u001b[38;5;66;03m# qualities = [ord(letter)-SANGER_SCORE_OFFSET for letter in quality_string]\u001b[39;00m\n\u001b[1;32m   1078\u001b[0m \u001b[38;5;66;03m#\u001b[39;00m\n\u001b[1;32m   1079\u001b[0m \u001b[38;5;66;03m# Precomputing is faster, perhaps partly by avoiding the subtractions.\u001b[39;00m\n\u001b[1;32m   1080\u001b[0m q_mapping \u001b[38;5;241m=\u001b[39m {\n\u001b[1;32m   1081\u001b[0m     \u001b[38;5;28mchr\u001b[39m(letter): letter \u001b[38;5;241m-\u001b[39m SANGER_SCORE_OFFSET\n\u001b[1;32m   1082\u001b[0m     \u001b[38;5;28;01mfor\u001b[39;00m letter \u001b[38;5;129;01min\u001b[39;00m \u001b[38;5;28mrange\u001b[39m(SANGER_SCORE_OFFSET, \u001b[38;5;241m94\u001b[39m \u001b[38;5;241m+\u001b[39m SANGER_SCORE_OFFSET)\n\u001b[1;32m   1083\u001b[0m }\n\u001b[0;32m-> 1085\u001b[0m \u001b[43m\u001b[49m\u001b[38;5;28;43;01mfor\u001b[39;49;00m\u001b[43m \u001b[49m\u001b[43mtitle_line\u001b[49m\u001b[43m,\u001b[49m\u001b[43m \u001b[49m\u001b[43mseq_string\u001b[49m\u001b[43m,\u001b[49m\u001b[43m \u001b[49m\u001b[43mquality_string\u001b[49m\u001b[43m \u001b[49m\u001b[38;5;129;43;01min\u001b[39;49;00m\u001b[43m \u001b[49m\u001b[43mFastqGeneralIterator\u001b[49m\u001b[43m(\u001b[49m\u001b[43mhandle\u001b[49m\u001b[43m)\u001b[49m\u001b[43m:\u001b[49m\n\u001b[1;32m   1086\u001b[0m \u001b[43m    \u001b[49m\u001b[38;5;28;43;01mif\u001b[39;49;00m\u001b[43m \u001b[49m\u001b[43mtitle2ids\u001b[49m\u001b[43m:\u001b[49m\n\u001b[1;32m   1087\u001b[0m \u001b[43m        \u001b[49m\u001b[38;5;28;43mid\u001b[39;49m\u001b[43m,\u001b[49m\u001b[43m \u001b[49m\u001b[43mname\u001b[49m\u001b[43m,\u001b[49m\u001b[43m \u001b[49m\u001b[43mdescr\u001b[49m\u001b[43m \u001b[49m\u001b[38;5;241;43m=\u001b[39;49m\u001b[43m \u001b[49m\u001b[43mtitle2ids\u001b[49m\u001b[43m(\u001b[49m\u001b[43mtitle_line\u001b[49m\u001b[43m)\u001b[49m\n",
      "File \u001b[0;32m~/BI/ML/BI-ml-2024/.conda/lib/python3.11/site-packages/Bio/SeqIO/QualityIO.py:931\u001b[0m, in \u001b[0;36mFastqGeneralIterator\u001b[0;34m(source)\u001b[0m\n\u001b[1;32m    929\u001b[0m \u001b[38;5;28;01mwhile\u001b[39;00m \u001b[38;5;28;01mTrue\u001b[39;00m:\n\u001b[1;32m    930\u001b[0m     \u001b[38;5;28;01mif\u001b[39;00m line[\u001b[38;5;241m0\u001b[39m] \u001b[38;5;241m!=\u001b[39m \u001b[38;5;124m\"\u001b[39m\u001b[38;5;124m@\u001b[39m\u001b[38;5;124m\"\u001b[39m:\n\u001b[0;32m--> 931\u001b[0m         \u001b[38;5;28;01mraise\u001b[39;00m \u001b[38;5;167;01mValueError\u001b[39;00m(\n\u001b[1;32m    932\u001b[0m             \u001b[38;5;124m\"\u001b[39m\u001b[38;5;124mRecords in Fastq files should start with \u001b[39m\u001b[38;5;124m'\u001b[39m\u001b[38;5;124m@\u001b[39m\u001b[38;5;124m'\u001b[39m\u001b[38;5;124m character\u001b[39m\u001b[38;5;124m\"\u001b[39m\n\u001b[1;32m    933\u001b[0m         )\n\u001b[1;32m    934\u001b[0m     title_line \u001b[38;5;241m=\u001b[39m line[\u001b[38;5;241m1\u001b[39m:]\u001b[38;5;241m.\u001b[39mrstrip()\n\u001b[1;32m    935\u001b[0m     seq_string \u001b[38;5;241m=\u001b[39m \u001b[38;5;124m\"\u001b[39m\u001b[38;5;124m\"\u001b[39m\n",
      "\u001b[0;31mValueError\u001b[0m: Records in Fastq files should start with '@' character"
     ]
    }
   ],
   "source": [
    "filter_fastq('data/output_oneline.fasta', (30, 60), 100, 30) #Incorrect input format"
   ]
  },
  {
   "cell_type": "markdown",
   "metadata": {},
   "source": [
    "### Test 6. Telegram-logger"
   ]
  },
  {
   "cell_type": "code",
   "execution_count": 8,
   "metadata": {},
   "outputs": [],
   "source": [
    "chat_id = '319825173' # Your chat-id\n",
    "\n",
    "@telegram_logger(chat_id)\n",
    "def good_function():\n",
    "    print(\"This goes to stdout\")\n",
    "    print(\"And this goes to stderr\", file=sys.stderr)\n",
    "    time.sleep(2)\n",
    "    print(\"Wake up, Neo\")\n",
    "\n",
    "@telegram_logger(chat_id)\n",
    "def bad_function():\n",
    "    print(\"Some text to stdout\")\n",
    "    time.sleep(2)\n",
    "    print(\"Some text to stderr\", file=sys.stderr)\n",
    "    raise RuntimeError(\"Ooops, exception here!\")\n",
    "    print(\"This text follows exception and should not appear in logs\")\n",
    "    \n",
    "@telegram_logger(chat_id)\n",
    "def long_lasting_function():\n",
    "    time.sleep(2000)\n",
    "\n",
    "\n",
    "good_function()\n",
    "\n",
    "try:\n",
    "    bad_function()\n",
    "except Exception:\n",
    "    pass"
   ]
  },
  {
   "cell_type": "markdown",
   "metadata": {},
   "source": [
    "Telegram-logger output example:\n",
    "\n",
    "![logger example](data/pic.png)"
   ]
  },
  {
   "cell_type": "markdown",
   "metadata": {},
   "source": [
    "### Unittest "
   ]
  },
  {
   "cell_type": "code",
   "execution_count": 12,
   "metadata": {},
   "outputs": [
    {
     "name": "stdout",
     "output_type": "stream",
     "text": [
      "test_amino_acid_sequence_count_hydrophilic_residues (test_AminoAcidSequence.TestBiologicalSequences.test_amino_acid_sequence_count_hydrophilic_residues) ... ok\n",
      "test_amino_acid_sequence_count_hydrophobic_residues (test_AminoAcidSequence.TestBiologicalSequences.test_amino_acid_sequence_count_hydrophobic_residues) ... FAIL\n",
      "test_amino_acid_sequence_is_valid_alphabet (test_AminoAcidSequence.TestBiologicalSequences.test_amino_acid_sequence_is_valid_alphabet) ... ok\n",
      "test_amino_acid_sequence_len (test_AminoAcidSequence.TestBiologicalSequences.test_amino_acid_sequence_len) ... ok\n",
      "test_amino_acid_sequence_repr (test_AminoAcidSequence.TestBiologicalSequences.test_amino_acid_sequence_repr) ... ok\n",
      "test_amino_acid_sequence_str (test_AminoAcidSequence.TestBiologicalSequences.test_amino_acid_sequence_str) ... ok\n",
      "test_dna_sequence_complement (test_DNASequence.TestBiologicalSequences.test_dna_sequence_complement) ... ok\n",
      "test_dna_sequence_gc_content (test_DNASequence.TestBiologicalSequences.test_dna_sequence_gc_content) ... ok\n",
      "test_dna_sequence_getitem (test_DNASequence.TestBiologicalSequences.test_dna_sequence_getitem) ... ok\n",
      "test_dna_sequence_is_valid_alphabet (test_DNASequence.TestBiologicalSequences.test_dna_sequence_is_valid_alphabet) ... ok\n",
      "test_dna_sequence_len (test_DNASequence.TestBiologicalSequences.test_dna_sequence_len) ... ok\n",
      "test_dna_sequence_repr (test_DNASequence.TestBiologicalSequences.test_dna_sequence_repr) ... ok\n",
      "test_dna_sequence_str (test_DNASequence.TestBiologicalSequences.test_dna_sequence_str) ... ok\n",
      "test_dna_sequence_transcribe (test_DNASequence.TestBiologicalSequences.test_dna_sequence_transcribe) ... ok\n",
      "test_rna_sequence_is_valid_alphabet (test_RNASequence.TestBiologicalSequences.test_rna_sequence_is_valid_alphabet) ... ok\n",
      "test_rna_sequence_len (test_RNASequence.TestBiologicalSequences.test_rna_sequence_len) ... ok\n",
      "test_rna_sequence_repr (test_RNASequence.TestBiologicalSequences.test_rna_sequence_repr) ... ok\n",
      "test_rna_sequence_str (test_RNASequence.TestBiologicalSequences.test_rna_sequence_str) ... ok\n",
      "test_change_fasta_start_pos (test_change_fasta_start_pos.TestSequenceFunctions.test_change_fasta_start_pos) ... FAIL\n",
      "test_convert_multiline_fasta_to_oneline (test_convert_multiline_to_oneline.TestSequenceFunctions.test_convert_multiline_fasta_to_oneline) ... FAIL\n",
      "test_convert_multiline_fasta_to_oneline_error (test_convert_multiline_to_oneline_error.TestSequenceFunctions.test_convert_multiline_fasta_to_oneline_error) ... ok\n",
      "test_combined_filtering (test_fastq_filter.TestFilterFastq.test_combined_filtering) ... ok\n",
      "test_gc_bounds (test_fastq_filter.TestFilterFastq.test_gc_bounds) ... FAIL\n",
      "test_length_bounds (test_fastq_filter.TestFilterFastq.test_length_bounds) ... FAIL\n",
      "test_quality_threshold (test_fastq_filter.TestFilterFastq.test_quality_threshold) ... FAIL\n",
      "\n",
      "======================================================================\n",
      "FAIL: test_amino_acid_sequence_count_hydrophobic_residues (test_AminoAcidSequence.TestBiologicalSequences.test_amino_acid_sequence_count_hydrophobic_residues)\n",
      "----------------------------------------------------------------------\n",
      "Traceback (most recent call last):\n",
      "  File \"/home/dorzhi/BI/python/my_tool/bioinformatics-utils/test_AminoAcidSequence.py\", line 27, in test_amino_acid_sequence_count_hydrophobic_residues\n",
      "    self.assertEqual(aa.count_hydrophobic_residues(), 3)\n",
      "AssertionError: 4 != 3\n",
      "\n",
      "======================================================================\n",
      "FAIL: test_change_fasta_start_pos (test_change_fasta_start_pos.TestSequenceFunctions.test_change_fasta_start_pos)\n",
      "----------------------------------------------------------------------\n",
      "Traceback (most recent call last):\n",
      "  File \"/home/dorzhi/BI/python/my_tool/bioinformatics-utils/test_change_fasta_start_pos.py\", line 19, in test_change_fasta_start_pos\n",
      "    self.assertEqual(content, \">id1\\nCGAT\")\n",
      "AssertionError: '>id1\\nCGAT\\n' != '>id1\\nCGAT'\n",
      "  >id1\n",
      "- CGAT\n",
      "?     -\n",
      "+ CGAT\n",
      "\n",
      "======================================================================\n",
      "FAIL: test_convert_multiline_fasta_to_oneline (test_convert_multiline_to_oneline.TestSequenceFunctions.test_convert_multiline_fasta_to_oneline)\n",
      "----------------------------------------------------------------------\n",
      "Traceback (most recent call last):\n",
      "  File \"/home/dorzhi/BI/python/my_tool/bioinformatics-utils/test_convert_multiline_to_oneline.py\", line 19, in test_convert_multiline_fasta_to_oneline\n",
      "    self.assertEqual(content, \">id1\\nATCG>id2\\nGCTA\")\n",
      "AssertionError: '>id1\\nATCG\\n>id2\\nGCTA\\n' != '>id1\\nATCG>id2\\nGCTA'\n",
      "  >id1\n",
      "+ ATCG>id2\n",
      "- ATCG\n",
      "- >id2\n",
      "- GCTA\n",
      "?     -\n",
      "+ GCTA\n",
      "\n",
      "======================================================================\n",
      "FAIL: test_gc_bounds (test_fastq_filter.TestFilterFastq.test_gc_bounds)\n",
      "----------------------------------------------------------------------\n",
      "Traceback (most recent call last):\n",
      "  File \"/home/dorzhi/BI/python/my_tool/bioinformatics-utils/test_fastq_filter.py\", line 27, in test_gc_bounds\n",
      "    self.assertEqual(len(result), 2)\n",
      "AssertionError: 1 != 2\n",
      "\n",
      "======================================================================\n",
      "FAIL: test_length_bounds (test_fastq_filter.TestFilterFastq.test_length_bounds)\n",
      "----------------------------------------------------------------------\n",
      "Traceback (most recent call last):\n",
      "  File \"/home/dorzhi/BI/python/my_tool/bioinformatics-utils/test_fastq_filter.py\", line 34, in test_length_bounds\n",
      "    self.assertEqual(len(result), 1)\n",
      "AssertionError: 2 != 1\n",
      "\n",
      "======================================================================\n",
      "FAIL: test_quality_threshold (test_fastq_filter.TestFilterFastq.test_quality_threshold)\n",
      "----------------------------------------------------------------------\n",
      "Traceback (most recent call last):\n",
      "  File \"/home/dorzhi/BI/python/my_tool/bioinformatics-utils/test_fastq_filter.py\", line 40, in test_quality_threshold\n",
      "    self.assertEqual(len(result), 1)\n",
      "AssertionError: 3 != 1\n",
      "\n",
      "----------------------------------------------------------------------\n",
      "Ran 25 tests in 0.007s\n",
      "\n",
      "FAILED (failures=6)\n"
     ]
    }
   ],
   "source": [
    "! python -m unittest discover -v"
   ]
  }
 ],
 "metadata": {
  "kernelspec": {
   "display_name": "Python 3",
   "language": "python",
   "name": "python3"
  },
  "language_info": {
   "codemirror_mode": {
    "name": "ipython",
    "version": 3
   },
   "file_extension": ".py",
   "mimetype": "text/x-python",
   "name": "python",
   "nbconvert_exporter": "python",
   "pygments_lexer": "ipython3",
   "version": "3.11.8"
  }
 },
 "nbformat": 4,
 "nbformat_minor": 2
}
